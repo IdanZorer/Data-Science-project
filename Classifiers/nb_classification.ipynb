{
 "cells": [
  {
   "cell_type": "code",
   "execution_count": 12,
   "metadata": {
    "collapsed": true
   },
   "outputs": [],
   "source": [
    "# imports and setup\n",
    "import numpy as np\n",
    "import pandas as pd\n",
    "\n",
    "# sklearn imports\n",
    "from sklearn import metrics\n",
    "from sklearn.naive_bayes import GaussianNB\n",
    "from sklearn.preprocessing import LabelEncoder\n",
    "from sklearn.model_selection import train_test_split\n",
    "\n",
    "# EDA\n",
    "import seaborn as sns"
   ]
  },
  {
   "cell_type": "code",
   "execution_count": 13,
   "outputs": [],
   "source": [
    "#all_features = ['top_charts', 'categories', 'price', 'installs', 'rating', 'rating_count', 'stars_5', 'stars_4', 'stars_3', 'stars_2',\n",
    "                #'stars_1', 'has_iap', 'in_app_purchases_from', 'in_app_purchases_up_to', 'contains_ads', 'most_popular_country']\n",
    "\n",
    "all_features = ['top_charts', 'categories', 'installs', 'rating', 'stars_5', 'stars_4', 'stars_3', 'stars_2',\n",
    "                'stars_1']\n",
    "\n",
    "df_games = pd.read_csv(r\"df_games.csv\")\n",
    "df = df_games[all_features].copy()"
   ],
   "metadata": {
    "collapsed": false,
    "pycharm": {
     "name": "#%%\n"
    }
   }
  },
  {
   "cell_type": "code",
   "execution_count": 14,
   "outputs": [],
   "source": [
    "# categorize\n",
    "for name in all_features:\n",
    "    df[name] = LabelEncoder().fit_transform(df[name])"
   ],
   "metadata": {
    "collapsed": false,
    "pycharm": {
     "name": "#%%\n"
    }
   }
  },
  {
   "cell_type": "code",
   "execution_count": 15,
   "outputs": [
    {
     "data": {
      "text/plain": "   top_charts  categories  installs  rating  stars_5  stars_4  stars_3  \\\n0           1           2        15   18813    19292    10986     8555   \n1           1          12        13    7157     1979      296      276   \n2           1           6        19   19245    19349    11123     8708   \n3           1           0        13   20139    16644     6478     3053   \n4           1           6        17   17105    19314    11094     8679   \n\n   stars_2  stars_1  \n0     6259     9791  \n1      122      425  \n2     6396     9890  \n3     1196     4027  \n4     6340     9802  ",
      "text/html": "<div>\n<style scoped>\n    .dataframe tbody tr th:only-of-type {\n        vertical-align: middle;\n    }\n\n    .dataframe tbody tr th {\n        vertical-align: top;\n    }\n\n    .dataframe thead th {\n        text-align: right;\n    }\n</style>\n<table border=\"1\" class=\"dataframe\">\n  <thead>\n    <tr style=\"text-align: right;\">\n      <th></th>\n      <th>top_charts</th>\n      <th>categories</th>\n      <th>installs</th>\n      <th>rating</th>\n      <th>stars_5</th>\n      <th>stars_4</th>\n      <th>stars_3</th>\n      <th>stars_2</th>\n      <th>stars_1</th>\n    </tr>\n  </thead>\n  <tbody>\n    <tr>\n      <th>0</th>\n      <td>1</td>\n      <td>2</td>\n      <td>15</td>\n      <td>18813</td>\n      <td>19292</td>\n      <td>10986</td>\n      <td>8555</td>\n      <td>6259</td>\n      <td>9791</td>\n    </tr>\n    <tr>\n      <th>1</th>\n      <td>1</td>\n      <td>12</td>\n      <td>13</td>\n      <td>7157</td>\n      <td>1979</td>\n      <td>296</td>\n      <td>276</td>\n      <td>122</td>\n      <td>425</td>\n    </tr>\n    <tr>\n      <th>2</th>\n      <td>1</td>\n      <td>6</td>\n      <td>19</td>\n      <td>19245</td>\n      <td>19349</td>\n      <td>11123</td>\n      <td>8708</td>\n      <td>6396</td>\n      <td>9890</td>\n    </tr>\n    <tr>\n      <th>3</th>\n      <td>1</td>\n      <td>0</td>\n      <td>13</td>\n      <td>20139</td>\n      <td>16644</td>\n      <td>6478</td>\n      <td>3053</td>\n      <td>1196</td>\n      <td>4027</td>\n    </tr>\n    <tr>\n      <th>4</th>\n      <td>1</td>\n      <td>6</td>\n      <td>17</td>\n      <td>17105</td>\n      <td>19314</td>\n      <td>11094</td>\n      <td>8679</td>\n      <td>6340</td>\n      <td>9802</td>\n    </tr>\n  </tbody>\n</table>\n</div>"
     },
     "execution_count": 15,
     "metadata": {},
     "output_type": "execute_result"
    }
   ],
   "source": [
    "df.head()"
   ],
   "metadata": {
    "collapsed": false,
    "pycharm": {
     "name": "#%%\n"
    }
   }
  },
  {
   "cell_type": "markdown",
   "source": [
    "# Split data into Train and test"
   ],
   "metadata": {
    "collapsed": false
   }
  },
  {
   "cell_type": "code",
   "execution_count": 16,
   "outputs": [],
   "source": [
    "X = df.drop(columns = 'top_charts')\n",
    "y = df['top_charts']\n",
    "X_train, X_test, y_train, y_test = train_test_split(X, y, random_state=42, test_size=0.2)"
   ],
   "metadata": {
    "collapsed": false,
    "pycharm": {
     "name": "#%%\n"
    }
   }
  },
  {
   "cell_type": "code",
   "execution_count": 17,
   "outputs": [
    {
     "name": "stdout",
     "output_type": "stream",
     "text": [
      "Accuracy on Train data=  0.8956814112920833\n",
      "Accuracy on test data=  0.8974762029517073\n"
     ]
    }
   ],
   "source": [
    "# Initialize the classifier\n",
    "gnb = GaussianNB()\n",
    "\n",
    "# Train classifier\n",
    "gnb.fit(X_train,y_train)\n",
    "\n",
    "y_pred_train = gnb.predict(X_train)\n",
    "y_pred = gnb.predict(X_test)\n",
    "\n",
    "# Print results\n",
    "print('Accuracy on Train data= ', metrics.accuracy_score(y_true = y_train, y_pred = y_pred_train))\n",
    "print('Accuracy on test data= ', metrics.accuracy_score(y_true = y_test, y_pred = y_pred))"
   ],
   "metadata": {
    "collapsed": false,
    "pycharm": {
     "name": "#%%\n"
    }
   }
  },
  {
   "cell_type": "markdown",
   "source": [
    "# Model parameters"
   ],
   "metadata": {
    "collapsed": false
   }
  },
  {
   "cell_type": "code",
   "execution_count": 18,
   "outputs": [
    {
     "data": {
      "text/plain": "array([0.90005895, 0.09994105])"
     },
     "execution_count": 18,
     "metadata": {},
     "output_type": "execute_result"
    }
   ],
   "source": [
    "# get the class probabilities\n",
    "gnb.class_prior_"
   ],
   "metadata": {
    "collapsed": false,
    "pycharm": {
     "name": "#%%\n"
    }
   }
  },
  {
   "cell_type": "code",
   "execution_count": 19,
   "outputs": [
    {
     "data": {
      "text/plain": "array([[6.20811653e+00, 7.82385475e+00, 8.60081646e+03, 1.32959943e+03,\n        4.55433322e+02, 3.12072081e+02, 1.82555835e+02, 4.07478854e+02],\n       [7.82545057e+00, 1.24501365e+01, 1.22897596e+04, 8.82817695e+03,\n        3.64920098e+03, 2.38023408e+03, 1.46990486e+03, 2.87450038e+03]])"
     },
     "execution_count": 19,
     "metadata": {},
     "output_type": "execute_result"
    }
   ],
   "source": [
    "gnb.theta_"
   ],
   "metadata": {
    "collapsed": false,
    "pycharm": {
     "name": "#%%\n"
    }
   }
  },
  {
   "cell_type": "code",
   "execution_count": 20,
   "outputs": [
    {
     "data": {
      "text/plain": "<AxesSubplot:>"
     },
     "execution_count": 20,
     "metadata": {},
     "output_type": "execute_result"
    },
    {
     "data": {
      "text/plain": "<Figure size 432x288 with 2 Axes>",
      "image/png": "[encoded data removed]"
     },
     "metadata": {
      "needs_background": "light"
     },
     "output_type": "display_data"
    }
   ],
   "source": [
    "cm = metrics.confusion_matrix(y_test, y_pred)\n",
    "\n",
    "cm_matrix = pd.DataFrame(data=cm, columns=['Actual Positive:0', 'Actual Negative:1'],\n",
    "                                 index=['Predict Positive:0', 'Predict Negative:1'])\n",
    "\n",
    "sns.heatmap(cm_matrix/np.sum(cm_matrix), annot=True, fmt='.2%', cmap='Blues')"
   ],
   "metadata": {
    "collapsed": false,
    "pycharm": {
     "name": "#%%\n"
    }
   }
  },
  {
   "cell_type": "code",
   "execution_count": 21,
   "outputs": [
    {
     "data": {
      "text/plain": "array([[19393,  1198],\n       [ 1150,  1161]], dtype=int64)"
     },
     "execution_count": 21,
     "metadata": {},
     "output_type": "execute_result"
    }
   ],
   "source": [
    "cm"
   ],
   "metadata": {
    "collapsed": false,
    "pycharm": {
     "name": "#%%\n"
    }
   }
  },
  {
   "cell_type": "code",
   "execution_count": 22,
   "outputs": [
    {
     "name": "stdout",
     "output_type": "stream",
     "text": [
      "Actual:2311, Pred:2359\n"
     ]
    }
   ],
   "source": [
    "print(f'Actual:{y_test.sum()}, Pred:{y_pred.sum()}')"
   ],
   "metadata": {
    "collapsed": false,
    "pycharm": {
     "name": "#%%\n"
    }
   }
  },
  {
   "cell_type": "code",
   "execution_count": 22,
   "outputs": [],
   "source": [],
   "metadata": {
    "collapsed": false,
    "pycharm": {
     "name": "#%%\n"
    }
   }
  }
 ],
 "metadata": {
  "kernelspec": {
   "display_name": "Python 3",
   "language": "python",
   "name": "python3"
  },
  "language_info": {
   "codemirror_mode": {
    "name": "ipython",
    "version": 2
   },
   "file_extension": ".py",
   "mimetype": "text/x-python",
   "name": "python",
   "nbconvert_exporter": "python",
   "pygments_lexer": "ipython2",
   "version": "2.7.6"
  }
 },
 "nbformat": 4,
 "nbformat_minor": 0
}