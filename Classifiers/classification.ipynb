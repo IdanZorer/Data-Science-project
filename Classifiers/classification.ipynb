{
 "cells": [
  {
   "cell_type": "code",
   "execution_count": 3,
   "metadata": {
    "collapsed": true
   },
   "outputs": [],
   "source": [
    "# imports and setup\n",
    "import numpy as np\n",
    "import pandas as pd\n",
    "\n",
    "# sklearn imports\n",
    "from sklearn.ensemble import RandomForestClassifier\n",
    "from sklearn.preprocessing import LabelEncoder, StandardScaler, MinMaxScaler\n",
    "from sklearn import linear_model, metrics\n",
    "from sklearn.model_selection import train_test_split, GridSearchCV\n",
    "\n",
    "# EDA\n",
    "import seaborn as sns\n",
    "from matplotlib import pyplot as plt"
   ]
  },
  {
   "cell_type": "code",
   "execution_count": 4,
   "outputs": [],
   "source": [
    "all_features = ['categories', 'price', 'installs', 'rating', 'rating_count', 'stars_5', 'stars_4', 'stars_3', 'stars_2', 'stars_1', 'has_iap', 'in_app_purchases_from', 'in_app_purchases_up_to', 'contains_ads', 'top_charts', 'most_popular_country']\n",
    "\n",
    "df_games = pd.read_csv(r\"df_games.csv\")\n",
    "df = df_games[all_features].copy()"
   ],
   "metadata": {
    "collapsed": false,
    "pycharm": {
     "name": "#%%\n"
    }
   }
  },
  {
   "cell_type": "code",
   "execution_count": 5,
   "outputs": [],
   "source": [
    "to_categorize = ['categories', 'most_popular_country']\n",
    "for name in to_categorize:\n",
    "    df[name] = LabelEncoder().fit_transform(df[name])"
   ],
   "metadata": {
    "collapsed": false,
    "pycharm": {
     "name": "#%%\n"
    }
   }
  },
  {
   "cell_type": "markdown",
   "source": [
    "Split data into Train and test"
   ],
   "metadata": {
    "collapsed": false
   }
  },
  {
   "cell_type": "code",
   "execution_count": 16,
   "outputs": [],
   "source": [
    "X = df.drop(columns = 'top_charts')\n",
    "y = df['top_charts']\n",
    "X_train, X_test, y_train, y_test = train_test_split(X, y, random_state=22, test_size=0.2)"
   ],
   "metadata": {
    "collapsed": false,
    "pycharm": {
     "name": "#%%\n"
    }
   }
  },
  {
   "cell_type": "markdown",
   "source": [
    "Build Random Forest Model with hyperparameters"
   ],
   "metadata": {
    "collapsed": false
   }
  },
  {
   "cell_type": "code",
   "execution_count": 17,
   "outputs": [
    {
     "name": "stdout",
     "output_type": "stream",
     "text": [
      "Accuracy on training data=  0.9477097069996944\n",
      "Precision on training data=  0.8178406466512702\n",
      "Recall on training data=  0.6162714814009136\n",
      "F1 on training data=  0.7028904602406649\n",
      "\n",
      "\n",
      "Accuracy on test data=  0.9380840101301197\n",
      "Precision on test data=  0.7563025210084033\n",
      "Recall on test data=  0.5545774647887324\n",
      "F1 on test data=  0.6399187404773996\n"
     ]
    }
   ],
   "source": [
    "forest =  RandomForestClassifier(bootstrap=True, n_estimators=250, max_depth=10)\n",
    "\n",
    "trained_forest = forest.fit(X_train, y_train)\n",
    "\n",
    "y_pred_train = trained_forest.predict(X_train)\n",
    "print('Accuracy on training data= ', metrics.accuracy_score(y_true = y_train, y_pred = y_pred_train))\n",
    "print('Precision on training data= ',metrics.precision_score(y_true = y_train, y_pred = y_pred_train))\n",
    "print('Recall on training data= ',metrics.recall_score(y_true = y_train, y_pred = y_pred_train))\n",
    "print('F1 on training data= ',metrics.f1_score(y_true = y_train, y_pred = y_pred_train))\n",
    "print('\\n')\n",
    "\n",
    "y_pred = trained_forest.predict(X_test)\n",
    "print('Accuracy on test data= ', metrics.accuracy_score(y_true = y_test, y_pred = y_pred))\n",
    "print('Precision on test data= ',metrics.precision_score(y_true = y_test, y_pred = y_pred))\n",
    "print('Recall on test data= ',metrics.recall_score(y_true = y_test, y_pred = y_pred))\n",
    "print('F1 on test data= ',metrics.f1_score(y_true = y_test, y_pred = y_pred))"
   ],
   "metadata": {
    "collapsed": false,
    "pycharm": {
     "name": "#%%\n"
    }
   }
  },
  {
   "cell_type": "code",
   "execution_count": 12,
   "outputs": [
    {
     "data": {
      "text/plain": "                  features   weights\n11   in_app_purchases_from  0.153238\n12  in_app_purchases_up_to  0.150481\n5                  stars_5  0.117846\n4             rating_count  0.097426\n2                 installs  0.076128\n6                  stars_4  0.072712\n1                    price  0.064465\n7                  stars_3  0.046477\n3                   rating  0.043070\n8                  stars_2  0.037567\n9                  stars_1  0.035334\n0               categories  0.034450\n10                 has_iap  0.029146\n14    most_popular_country  0.027399\n13            contains_ads  0.014261",
      "text/html": "<div>\n<style scoped>\n    .dataframe tbody tr th:only-of-type {\n        vertical-align: middle;\n    }\n\n    .dataframe tbody tr th {\n        vertical-align: top;\n    }\n\n    .dataframe thead th {\n        text-align: right;\n    }\n</style>\n<table border=\"1\" class=\"dataframe\">\n  <thead>\n    <tr style=\"text-align: right;\">\n      <th></th>\n      <th>features</th>\n      <th>weights</th>\n    </tr>\n  </thead>\n  <tbody>\n    <tr>\n      <th>11</th>\n      <td>in_app_purchases_from</td>\n      <td>0.153238</td>\n    </tr>\n    <tr>\n      <th>12</th>\n      <td>in_app_purchases_up_to</td>\n      <td>0.150481</td>\n    </tr>\n    <tr>\n      <th>5</th>\n      <td>stars_5</td>\n      <td>0.117846</td>\n    </tr>\n    <tr>\n      <th>4</th>\n      <td>rating_count</td>\n      <td>0.097426</td>\n    </tr>\n    <tr>\n      <th>2</th>\n      <td>installs</td>\n      <td>0.076128</td>\n    </tr>\n    <tr>\n      <th>6</th>\n      <td>stars_4</td>\n      <td>0.072712</td>\n    </tr>\n    <tr>\n      <th>1</th>\n      <td>price</td>\n      <td>0.064465</td>\n    </tr>\n    <tr>\n      <th>7</th>\n      <td>stars_3</td>\n      <td>0.046477</td>\n    </tr>\n    <tr>\n      <th>3</th>\n      <td>rating</td>\n      <td>0.043070</td>\n    </tr>\n    <tr>\n      <th>8</th>\n      <td>stars_2</td>\n      <td>0.037567</td>\n    </tr>\n    <tr>\n      <th>9</th>\n      <td>stars_1</td>\n      <td>0.035334</td>\n    </tr>\n    <tr>\n      <th>0</th>\n      <td>categories</td>\n      <td>0.034450</td>\n    </tr>\n    <tr>\n      <th>10</th>\n      <td>has_iap</td>\n      <td>0.029146</td>\n    </tr>\n    <tr>\n      <th>14</th>\n      <td>most_popular_country</td>\n      <td>0.027399</td>\n    </tr>\n    <tr>\n      <th>13</th>\n      <td>contains_ads</td>\n      <td>0.014261</td>\n    </tr>\n  </tbody>\n</table>\n</div>"
     },
     "execution_count": 12,
     "metadata": {},
     "output_type": "execute_result"
    }
   ],
   "source": [
    "all_features.remove('top_charts')\n",
    "featuresDF=pd.DataFrame({\"features\":all_features,\"weights\":trained_forest.feature_importances_})\n",
    "featuresDF.sort_values(\"weights\",ascending=False)"
   ],
   "metadata": {
    "collapsed": false,
    "pycharm": {
     "name": "#%%\n"
    }
   }
  },
  {
   "cell_type": "code",
   "execution_count": 13,
   "outputs": [
    {
     "data": {
      "text/plain": "<Figure size 432x288 with 2 Axes>",
      "image/png": "[encoded data removed]"
     },
     "metadata": {
      "needs_background": "light"
     },
     "output_type": "display_data"
    }
   ],
   "source": [
    "cf_matrix = metrics.confusion_matrix(y_test, y_pred)\n",
    "\n",
    "ax = sns.heatmap(cf_matrix/np.sum(cf_matrix), annot=True, fmt='.2%', cmap='Blues')\n",
    "\n",
    "ax.set_title('Confusion Matrix with labels\\n');\n",
    "ax.set_xlabel('Predicted Values')\n",
    "ax.set_ylabel('Actual Values');\n",
    "\n",
    "## Ticket labels - List must be in alphabetical order\n",
    "ax.xaxis.set_ticklabels(['False','True'])\n",
    "ax.yaxis.set_ticklabels(['False','True'])\n",
    "\n",
    "## Display the visualization of the Confusion Matrix.\n",
    "plt.show()\n"
   ],
   "metadata": {
    "collapsed": false,
    "pycharm": {
     "name": "#%%\n"
    }
   }
  },
  {
   "cell_type": "code",
   "execution_count": 14,
   "outputs": [
    {
     "data": {
      "text/plain": "array([[20176,   415],\n       [ 1022,  1289]], dtype=int64)"
     },
     "execution_count": 14,
     "metadata": {},
     "output_type": "execute_result"
    }
   ],
   "source": [
    "cf_matrix"
   ],
   "metadata": {
    "collapsed": false,
    "pycharm": {
     "name": "#%%\n"
    }
   }
  }
 ],
 "metadata": {
  "kernelspec": {
   "display_name": "Python 3",
   "language": "python",
   "name": "python3"
  },
  "language_info": {
   "codemirror_mode": {
    "name": "ipython",
    "version": 2
   },
   "file_extension": ".py",
   "mimetype": "text/x-python",
   "name": "python",
   "nbconvert_exporter": "python",
   "pygments_lexer": "ipython2",
   "version": "2.7.6"
  }
 },
 "nbformat": 4,
 "nbformat_minor": 0
}