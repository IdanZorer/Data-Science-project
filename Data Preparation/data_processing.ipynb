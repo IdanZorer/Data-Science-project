{
 "cells": [
  {
   "cell_type": "code",
   "execution_count": null,
   "outputs": [],
   "source": [
    "# imports and setup\n",
    "import re\n",
    "import ast\n",
    "import numpy as np\n",
    "import pandas as pd\n",
    "from datetime import datetime"
   ],
   "metadata": {
    "collapsed": false,
    "pycharm": {
     "name": "#%%\n"
    }
   }
  },
  {
   "cell_type": "code",
   "execution_count": null,
   "outputs": [],
   "source": [
    "df = pd.read_csv(r\"E:\\df_final.csv\")"
   ],
   "metadata": {
    "collapsed": false,
    "pycharm": {
     "name": "#%%\n"
    }
   }
  },
  {
   "cell_type": "code",
   "execution_count": null,
   "outputs": [],
   "source": [
    "# Data cleaning\n",
    "\n",
    "df_copy = df.copy()\n",
    "\n",
    "# Drop duplicates\n",
    "df_copy = df_copy.drop_duplicates(subset=['app_profile_url'])\n",
    "\n",
    "# General\n",
    "cols_to_keep = ['app_id','name','categories','category_chart_type_pairs','contains_ads','file_size','has_iap','installs','minimum_os_version','most_popular_country','price','publisher_country','publisher_name','rating','rating_count','rating_breakdown','release_date','top_in_app_purchases','valid_countries']\n",
    "for c in df_copy.columns:\n",
    "    if c not in cols_to_keep:\n",
    "        df_copy = df_copy.drop(c, axis = 1)\n",
    "\n",
    "# Categories\n",
    "genre_list = []\n",
    "for category in df_copy['categories']:\n",
    "    genre_list.append(ast.literal_eval(category)[0]['name'])\n",
    "df_copy['categories'] = genre_list\n",
    "\n",
    "# Top Charts\n",
    "chart_list = []\n",
    "for chart in df_copy['category_chart_type_pairs']:\n",
    "    if ast.literal_eval(chart):\n",
    "        chart_list.append(1)\n",
    "    else:\n",
    "        chart_list.append(0)\n",
    "df_copy['top_charts'] = chart_list\n",
    "df_copy = df_copy.drop('category_chart_type_pairs',axis=1)\n",
    "\n",
    "# Contains ads\n",
    "df_copy[\"contains_ads\"] = df_copy[\"contains_ads\"].fillna(0).astype(int)\n",
    "\n",
    "# Has iap\n",
    "df_copy['has_iap'] = df_copy['has_iap'].fillna(0).astype(int)\n",
    "\n",
    "# File Size\n",
    "fixed_size = []\n",
    "for size in df_copy['file_size']:\n",
    "    if type(size) is str:\n",
    "        if size[len(size) - 1] == 'M':\n",
    "            fixed_size.append(float(size.strip('M').replace(',', '')))\n",
    "        elif size[len(size) - 1] == 'G':\n",
    "            fixed_size.append(float(size.strip('G').replace(',', '')) * 1000)\n",
    "        else:\n",
    "            fixed_size.append(0)\n",
    "    else:\n",
    "        # 0 for \"Varies with device\"\n",
    "        fixed_size.append(0)\n",
    "df_copy['file_size'] = fixed_size\n",
    "\n",
    "# Installs\n",
    "df_copy = df_copy.dropna(subset = ['installs'])\n",
    "df_copy['installs'] = [int(value.strip('+').replace(',', '')) for value in df_copy['installs']]\n",
    "\n",
    "# In-App Purchases\n",
    "fixed_iap_from = []\n",
    "fixed_iap_up_to = []\n",
    "for purch in df_copy['top_in_app_purchases']:\n",
    "    fixed_purch = purch.strip(' per item')\n",
    "    splited_purch = fixed_purch.split(' - ')\n",
    "    if splited_purch[0] != fixed_purch:\n",
    "        fixed_iap_from.append(float(splited_purch[0].strip('$')))\n",
    "        fixed_iap_up_to.append(float(splited_purch[1].strip('$')))\n",
    "    elif purch == '[]':\n",
    "        fixed_iap_from.append(0)\n",
    "        fixed_iap_up_to.append(0)\n",
    "    else:\n",
    "        fixed_iap_from.append(float(fixed_purch.strip('$')))\n",
    "        fixed_iap_up_to.append(float(fixed_purch.strip('$')))\n",
    "df_copy['in_app_purchases_from'] = fixed_iap_from\n",
    "df_copy['in_app_purchases_up_to'] = fixed_iap_up_to\n",
    "df_copy = df_copy.drop('top_in_app_purchases', axis = 1)\n",
    "\n",
    "# Minimum Os Version\n",
    "fixed_minimum_version = []\n",
    "for ver in df_copy['minimum_os_version']:\n",
    "    if type(ver) is str:\n",
    "        # Checks if the first letter is a digit\n",
    "        if re.search('\\d',ver):\n",
    "            fixed_minimum_version.append(int(re.findall(r'\\d\\d?', ver)[0]))\n",
    "        else:\n",
    "            fixed_minimum_version.append(0)\n",
    "    else:\n",
    "        fixed_minimum_version.append(0)\n",
    "df_copy['minimum_os_version'] = fixed_minimum_version\n",
    "\n",
    "# Price\n",
    "df_copy['price'] = np.round(df_copy['price'], 2)\n",
    "\n",
    "# Rating Breakdown\n",
    "stars = [[] for i in range(5)]\n",
    "for rating_breakdown in df_copy['rating_breakdown']:\n",
    "    for idx, star_count in enumerate(ast.literal_eval(rating_breakdown)):\n",
    "       stars[idx].append(star_count)\n",
    "for num, lst_stars in enumerate(stars):\n",
    "    df_copy[f'stars_{num + 1}'] = lst_stars\n",
    "df_copy = df_copy.drop('rating_breakdown',axis=1)\n",
    "\n",
    "# Release Date\n",
    "date_lst = []\n",
    "for date in df_copy['release_date']:\n",
    "    if type(date) is str:\n",
    "        date_lst.append(datetime.strptime(date, '%Y-%m-%dT%H:%M:%SZ').year)\n",
    "    else:\n",
    "        date_lst.append(0)\n",
    "df_copy['release_date'] = date_lst\n",
    "\n",
    "# Rearrange the dataframe\n",
    "df_copy = df_copy[['app_id', 'name', 'categories', 'price', 'installs', 'rating', 'rating_count', 'stars_5', 'stars_4', 'stars_3', 'stars_2', 'stars_1', 'has_iap', 'in_app_purchases_from', 'in_app_purchases_up_to', 'contains_ads', 'top_charts', 'most_popular_country', 'valid_countries', 'publisher_name', 'publisher_country', 'release_date', 'file_size', 'minimum_os_version']]\n",
    "\n",
    "# Categories columns\n",
    "# TODO : might need to add more cols to the list.\n",
    "cols = ['categories', 'has_iap', 'contains_ads', 'top_charts', 'most_popular_country', 'publisher_country', 'release_date', 'minimum_os_version', 'publisher_name']\n",
    "df_copy[cols] = df_copy[cols].astype('category')\n",
    "\n",
    "# Outliers\n",
    "'''Handles outliers in price column'''\n",
    "z_score = (df_copy['price'] - df_copy['price'].mean()) / df_copy['price'].std()\n",
    "outliers = abs(z_score) > 7\n",
    "df_copy['price'][outliers] = np.nan\n",
    "df_copy = df_copy[df_copy['price'].notna()]\n",
    "#df_copy.dropna(subset=['price'])\n",
    "\n",
    "# Print head\n",
    "df_copy.head()"
   ],
   "metadata": {
    "collapsed": false,
    "pycharm": {
     "name": "#%%\n"
    }
   }
  },
  {
   "cell_type": "code",
   "execution_count": null,
   "outputs": [],
   "source": [
    "df_copy.to_csv(r'df_games(ver1.1).csv',encoding='utf-8-sig')"
   ],
   "metadata": {
    "collapsed": false,
    "pycharm": {
     "name": "#%%\n"
    }
   }
  }
 ],
 "metadata": {
  "kernelspec": {
   "display_name": "Python 3",
   "language": "python",
   "name": "python3"
  },
  "language_info": {
   "codemirror_mode": {
    "name": "ipython",
    "version": 2
   },
   "file_extension": ".py",
   "mimetype": "text/x-python",
   "name": "python",
   "nbconvert_exporter": "python",
   "pygments_lexer": "ipython2",
   "version": "2.7.6"
  }
 },
 "nbformat": 4,
 "nbformat_minor": 0
}